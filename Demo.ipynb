{
 "cells": [
  {
   "cell_type": "markdown",
   "metadata": {},
   "source": [
    "# Neural Networks "
   ]
  },
  {
   "cell_type": "markdown",
   "metadata": {},
   "source": [
    "####  What is a neural network?\n",
    "Neural network is a machine learning method that is loosely inspired by neurons in the brain. What they do is multiply weights and inputs. If we're given a training set of inputs and outputs it will learn the mapping by continously updating weights to get nearer to the output. \n",
    "### Neural Networks look like this\n",
    "![](http://neuralnetworksanddeeplearning.com/images/tikz35.png)"
   ]
  },
  {
   "cell_type": "markdown",
   "metadata": {},
   "source": [
    "### Let's start with a simple example"
   ]
  },
  {
   "cell_type": "code",
   "execution_count": 2,
   "metadata": {
    "collapsed": true
   },
   "outputs": [],
   "source": [
    "import numpy as np\n",
    "weight = np.random.randn()\n",
    "def Neural_Network(input, weight):\n",
    "    return input * weight"
   ]
  },
  {
   "cell_type": "code",
   "execution_count": 3,
   "metadata": {},
   "outputs": [
    {
     "data": {
      "text/plain": [
       "0.015184426479923345"
      ]
     },
     "execution_count": 3,
     "metadata": {},
     "output_type": "execute_result"
    }
   ],
   "source": [
    "Neural_Network(0.2354, weight)"
   ]
  },
  {
   "cell_type": "markdown",
   "metadata": {},
   "source": [
    "This is what neural networks do! They multiply weights and inputs to get a prediction. "
   ]
  },
  {
   "cell_type": "markdown",
   "metadata": {},
   "source": [
    "### Working  with multiple inputs and weights\n",
    "For this example we'll work with 4 inputs and weights"
   ]
  },
  {
   "cell_type": "code",
   "execution_count": 4,
   "metadata": {},
   "outputs": [
    {
     "name": "stdout",
     "output_type": "stream",
     "text": [
      "[ 1.09703325  5.33139259  1.79958776 -0.52102516]\n"
     ]
    }
   ],
   "source": [
    "weight = np.random.randn(4)\n",
    "input = [2.3, 4.6, 7.8, 0.9]\n",
    "print(Neural_Network(weight, input))"
   ]
  },
  {
   "cell_type": "markdown",
   "metadata": {},
   "source": [
    "Oops! We get more than one result. So, we need to sum these all results to get a prediction. So, We need to define a weighted sum funtion. We can do this by numpy 'dot' function"
   ]
  },
  {
   "cell_type": "code",
   "execution_count": 5,
   "metadata": {},
   "outputs": [
    {
     "data": {
      "text/plain": [
       "7.7069884400010515"
      ]
     },
     "execution_count": 5,
     "metadata": {},
     "output_type": "execute_result"
    }
   ],
   "source": [
    "np.dot(input, weight)#We're gonna be using this instead of Neural_Network function that we defined above"
   ]
  },
  {
   "cell_type": "markdown",
   "metadata": {},
   "source": [
    "#### This is what the neural network that we coded looks like\n",
    "![This is how our neural network looks like](http://www.theprojectspot.com/images/post-assets/an.jpg)"
   ]
  },
  {
   "cell_type": "markdown",
   "metadata": {},
   "source": [
    "## Let's do this with an example\n",
    "#### Will it rain or not"
   ]
  },
  {
   "cell_type": "markdown",
   "metadata": {},
   "source": [
    "#### What is this Activation Function(f) in the above picture\n",
    "What if we want to predict whether it'll rain or not. We can have some inputs(features)) 'X', Weights ' W' and Output 'Y'\n",
    "The formula would be \" X * W = Y' where 'Y' is the probability of Raining. From the program above that's not the case as it is not the prbability. That's were activation functions come in play!"
   ]
  },
  {
   "cell_type": "markdown",
   "metadata": {},
   "source": [
    "There are alot of activation functions. Here we're gonna be using Sigmoid function that will convert the result into a probability between 0 and 1\n",
    "![Activatio Function](https://qph.ec.quoracdn.net/main-qimg-05edc1873d0103e36064862a45566dba)"
   ]
  },
  {
   "cell_type": "code",
   "execution_count": 6,
   "metadata": {},
   "outputs": [
    {
     "name": "stdout",
     "output_type": "stream",
     "text": [
      "0.999550528456\n"
     ]
    }
   ],
   "source": [
    "#We need to define the sigmoid function\n",
    "def sigmoid(x):\n",
    "    return 1/(1 + np.exp(-x))\n",
    "#Now take the sigmoid of the dot product\n",
    "print(sigmoid(np.dot(input, weight)))"
   ]
  },
  {
   "cell_type": "markdown",
   "metadata": {},
   "source": [
    "So, our model predicts that there is 98% chance of raining. But this may be wrong as multiplying inputs and random weights will give us random results. We need the correct weghts for the model to predict accurately "
   ]
  },
  {
   "cell_type": "markdown",
   "metadata": {},
   "source": [
    "#### Let's do this with an example where set of 1s and 0s that are mapped to set of 1s and 0s"
   ]
  },
  {
   "cell_type": "code",
   "execution_count": 58,
   "metadata": {
    "collapsed": true
   },
   "outputs": [],
   "source": [
    "inputs = np.array([[0, 1, 1], [1, 1, 1], [1, 0, 0], [0, 0, 0]])\n",
    "true = np.array([[1], [1], [0], [0]]).T\n",
    "weights = 2 * np.random.random((3, 1)) - 1 # Random weights stored in 3 x 1 matrix  \n",
    "output = sigmoid(np.dot(inputs, weights))\n",
    "mm = np.dot(inputs, weights)"
   ]
  },
  {
   "cell_type": "code",
   "execution_count": 44,
   "metadata": {},
   "outputs": [
    {
     "name": "stdout",
     "output_type": "stream",
     "text": [
      "[[ 0.59024853]\n",
      " [ 0.53472105]\n",
      " [ 0.4437677 ]\n",
      " [ 0.5       ]]\n"
     ]
    }
   ],
   "source": [
    "print(output)"
   ]
  },
  {
   "cell_type": "code",
   "execution_count": 53,
   "metadata": {},
   "outputs": [
    {
     "data": {
      "text/plain": [
       "(4, 3)"
      ]
     },
     "execution_count": 53,
     "metadata": {},
     "output_type": "execute_result"
    }
   ],
   "source": [
    "inputs.shape"
   ]
  },
  {
   "cell_type": "markdown",
   "metadata": {},
   "source": [
    "#### Matrix Multiplication "
   ]
  },
  {
   "cell_type": "code",
   "execution_count": 56,
   "metadata": {},
   "outputs": [
    {
     "data": {
      "text/plain": [
       "array([[-0.22588478],\n",
       "       [ 0.46561043],\n",
       "       [-0.10061757]])"
      ]
     },
     "execution_count": 56,
     "metadata": {},
     "output_type": "execute_result"
    }
   ],
   "source": [
    "weights"
   ]
  },
  {
   "cell_type": "markdown",
   "metadata": {},
   "source": [
    "![Matrix multiplication](http://4.bp.blogspot.com/-chb2aBGjp9k/U11Py1FaydI/AAAAAAAAAjQ/IQCHVD8eSO4/s1600/Matrix+mutl.jpg)"
   ]
  },
  {
   "cell_type": "markdown",
   "metadata": {},
   "source": [
    "## Measuring the error\n",
    "error is the difference between true value and the model's prediction. This is a measure of our model's performance. If its high that means our model is making bad predictions and if its low, model is making good predictions. So we need to make this error as small as possible. We're gonna talk about gradient descent later, which is the most popular way to optimize our weights."
   ]
  },
  {
   "cell_type": "code",
   "execution_count": 48,
   "metadata": {
    "collapsed": true
   },
   "outputs": [],
   "source": [
    "error = true - output"
   ]
  },
  {
   "cell_type": "code",
   "execution_count": 52,
   "metadata": {},
   "outputs": [
    {
     "data": {
      "text/plain": [
       "(1, 4)"
      ]
     },
     "execution_count": 52,
     "metadata": {},
     "output_type": "execute_result"
    }
   ],
   "source": [
    "output.shape\n",
    "true.shape"
   ]
  },
  {
   "cell_type": "markdown",
   "metadata": {},
   "source": [
    "The above program in [17] our model doesn't really do anything. The only way we can get our model to predict accurately is to optimize the weights but how do we find thse weights? \n",
    "## Gradient Descent\n",
    "it is a popular optimizing technique to update our weights. So let's talk about it in detail if we had a graph with Error and weight values, it would look like this!\n",
    "![](http://blog.hackerearth.com/wp-content/uploads/2016/12/graph.png)"
   ]
  },
  {
   "cell_type": "markdown",
   "metadata": {},
   "source": [
    "From the above graph we see that the graph is a parabola. Our task is to find the local minima, which are the weights to get the smallest possible error. SO, let's do this in code"
   ]
  },
  {
   "cell_type": "code",
   "execution_count": null,
   "metadata": {
    "collapsed": true
   },
   "outputs": [],
   "source": []
  }
 ],
 "metadata": {
  "kernelspec": {
   "display_name": "Python 3",
   "language": "python",
   "name": "python3"
  },
  "language_info": {
   "codemirror_mode": {
    "name": "ipython",
    "version": 3
   },
   "file_extension": ".py",
   "mimetype": "text/x-python",
   "name": "python",
   "nbconvert_exporter": "python",
   "pygments_lexer": "ipython3",
   "version": "3.6.3"
  }
 },
 "nbformat": 4,
 "nbformat_minor": 2
}
